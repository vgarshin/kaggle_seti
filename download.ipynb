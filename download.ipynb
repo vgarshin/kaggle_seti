{
 "cells": [
  {
   "cell_type": "code",
   "execution_count": null,
   "metadata": {
    "cellId": "pay6j0hyppdp85dnaabnq"
   },
   "outputs": [],
   "source": [
    "import os\n",
    "disk = os.statvfs('.')\n",
    "total_bytes = float(disk.f_bsize * disk.f_blocks)\n",
    "print('total space: {:.2f} GB'.format(total_bytes / (2 ** 30)))\n",
    "total_used_space = float(disk.f_bsize * (disk.f_blocks - disk.f_bfree))\n",
    "print('used space: {:.2f} GB'.format(total_used_space / (2 ** 30)))"
   ]
  },
  {
   "cell_type": "code",
   "execution_count": null,
   "metadata": {
    "cellId": "k6jn0pfr5khw25gya9bzs"
   },
   "outputs": [],
   "source": [
    "import json\n",
    "with open('../.kaggle/kaggle.json') as file:\n",
    "    kgl_data = json.load(file)\n",
    "os.environ['KAGGLE_USERNAME'] = kgl_data['username']\n",
    "os.environ['KAGGLE_KEY'] = kgl_data['key']"
   ]
  },
  {
   "cell_type": "code",
   "execution_count": null,
   "metadata": {
    "cellId": "dr1v1mhgu2amdqanwjb6b7"
   },
   "outputs": [],
   "source": [
    "DATA_PATH = './data'\n",
    "COMPETITION = 'seti-breakthrough-listen'\n",
    "if not os.path.exists(DATA_PATH):\n",
    "    os.makedirs(DATA_PATH)\n",
    "import kaggle\n",
    "kaggle.api.authenticate()\n",
    "kaggle.api.competition_download_files(COMPETITION, path=DATA_PATH, quiet=False)"
   ]
  },
  {
   "cell_type": "code",
   "execution_count": null,
   "metadata": {
    "cellId": "muo53mulz70xsq53xx2vgm"
   },
   "outputs": [],
   "source": [
    "import zipfile\n",
    "from tqdm import tqdm\n",
    "fname = f'./data/{COMPETITION}.zip'\n",
    "path = './data'\n",
    "with zipfile.ZipFile(fname, 'r') as zf:\n",
    "    for entry in tqdm(zf.infolist(), desc='Extracting '):\n",
    "        try:\n",
    "            zf.extract(entry, path)\n",
    "        except zipfile.error as e:\n",
    "            pass"
   ]
  },
  {
   "cell_type": "code",
   "execution_count": null,
   "metadata": {
    "cellId": "ithkays8okgp6s88lcdd4"
   },
   "outputs": [],
   "source": []
  }
 ],
 "metadata": {
  "kernelspec": {
   "display_name": "Python 3",
   "language": "python",
   "name": "python3"
  },
  "language_info": {
   "codemirror_mode": {
    "name": "ipython",
    "version": 3
   },
   "file_extension": ".py",
   "mimetype": "text/x-python",
   "name": "python",
   "nbconvert_exporter": "python",
   "pygments_lexer": "ipython3",
   "version": "3.8.3"
  },
  "notebookId": "8347c216-97f7-49c5-9e5a-bdda144100dc"
 },
 "nbformat": 4,
 "nbformat_minor": 5
}
